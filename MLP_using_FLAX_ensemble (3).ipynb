{
  "nbformat": 4,
  "nbformat_minor": 0,
  "metadata": {
    "colab": {
      "provenance": []
    },
    "kernelspec": {
      "name": "python3",
      "display_name": "Python 3"
    },
    "language_info": {
      "name": "python"
    },
    "accelerator": "GPU",
    "gpuClass": "standard"
  },
  "cells": [
    {
      "cell_type": "markdown",
      "source": [
        "Importing the Necessary libraries"
      ],
      "metadata": {
        "id": "DauRcMs5szlt"
      }
    },
    {
      "cell_type": "code",
      "source": [
        "import jax\n",
        "import jax.numpy as jnp\n",
        "import optax\n",
        "import tensorflow_probability.substrates.jax as tfp\n",
        "import warnings\n",
        "warnings.filterwarnings('ignore')"
      ],
      "metadata": {
        "id": "JFBfcQ-W6EEc"
      },
      "execution_count": 4,
      "outputs": []
    },
    {
      "cell_type": "markdown",
      "source": [
        "Defining the model"
      ],
      "metadata": {
        "id": "zk6V6QaOs2i6"
      }
    },
    {
      "cell_type": "code",
      "source": [
        "from typing import Sequence, Tuple\n",
        "from jax import random\n",
        "import jax.numpy as jnp\n",
        "from flax import linen\n",
        "\n",
        "class MultiLayerPerceptronRegressor(linen.Module):\n",
        "    features: Sequence[int] = (5,10,15,2)\n",
        "\n",
        "    def setup(self):\n",
        "        self.layers = [linen.Dense(feat) for feat in self.features]\n",
        "\n",
        "    def __call__(self, inputs):\n",
        "        x = inputs\n",
        "        for i, lyr in enumerate(self.layers):\n",
        "            x = lyr(x)\n",
        "            if i != len(self.layers) - 1:\n",
        "                x = linen.relu(x)\n",
        "        return x\n",
        "\n"
      ],
      "metadata": {
        "id": "sGdDpOVl5hCC"
      },
      "execution_count": 5,
      "outputs": []
    },
    {
      "cell_type": "code",
      "source": [
        "# Generate some random toy data\n",
        "# Simple 1d regression dataset\n",
        "x = jnp.array(jnp.linspace(0, 1, 100))\n",
        "\n",
        "f = lambda x: 2 * x + 1\n",
        "y = f(x) + jax.random.normal(jax.random.PRNGKey(42), x.shape)\n",
        "\n",
        "\n",
        "\n",
        "samples = x.shape\n",
        "features = 1\n",
        "\n"
      ],
      "metadata": {
        "id": "7S_QsoXeeOfu"
      },
      "execution_count": 34,
      "outputs": []
    },
    {
      "cell_type": "markdown",
      "source": [
        "Defining the loss function"
      ],
      "metadata": {
        "id": "w0Le9AuFs52K"
      }
    },
    {
      "cell_type": "code",
      "source": [
        "def Loss_tfp(weights, input_data, actual):\n",
        "    preds = model.apply(weights, input_data)[:,0]\n",
        "    variance = jnp.exp(model.apply(weights, input_data)[:,1])\n",
        "    # print(variance)\n",
        "    dist = tfp.distributions.Normal(preds, jnp.sqrt(variance))\n",
        "    return -jnp.sum(dist.log_prob(actual))/(len(preds))"
      ],
      "metadata": {
        "id": "QEuhvka35mSO"
      },
      "execution_count": 6,
      "outputs": []
    },
    {
      "cell_type": "markdown",
      "source": [
        "Model summary\n"
      ],
      "metadata": {
        "id": "WY3EWUOwtC_R"
      }
    },
    {
      "cell_type": "code",
      "source": [
        "from tqdm import tqdm"
      ],
      "metadata": {
        "id": "_lKF7rw7loVi"
      },
      "execution_count": 7,
      "outputs": []
    },
    {
      "cell_type": "markdown",
      "source": [
        "Ensemble"
      ],
      "metadata": {
        "id": "o6iq6MELixjw"
      }
    },
    {
      "cell_type": "code",
      "source": [
        "l = []\n",
        "e =[]\n",
        "n_ensembles = 6\n",
        "distribution = jnp.ones((len(y),n_ensembles))\n",
        "responsibility = jnp.ones((len(y),n_ensembles))\n",
        "mean_predictions = jnp.ones((len(y),n_ensembles))\n",
        "var_predictions =jnp.ones((len(y),n_ensembles))\n",
        "\n",
        "for ensembles in tqdm(range(n_ensembles)):\n",
        "  seed = random.PRNGKey(ensembles)\n",
        "  epochs=1000\n",
        "\n",
        "  model = MultiLayerPerceptronRegressor() ## Define Model\n",
        "  random_arr = jax.random.normal(key=seed, shape=(5, features))\n",
        "  params = model.init(seed, random_arr) ## Initialize Model Parameters\n",
        "\n",
        "  optimizer = optax.sgd(learning_rate=1/1e2) ## Initialize SGD Optimizer using OPTAX\n",
        "\n",
        "  optimizer_state = optimizer.init(params)\n",
        "  loss_grad = jax.value_and_grad(Loss_tfp)\n",
        "\n",
        "  for i in range(1,epochs+1):\n",
        "      e.append(i)\n",
        "      loss_val, gradients = loss_grad(params, x.reshape(-1,1),y) ## Calculate Loss and Gradients\n",
        "      # print(loss_val)\n",
        "      l.append(loss_val)\n",
        "\n",
        "      updates, optimizer_state = optimizer.update(gradients, optimizer_state)\n",
        "      params = optax.apply_updates(params, updates) ## Update weights\n",
        "      #if i % 100 == 0:\n",
        "         # print('MLE After {} Epochs : {:.2f}'.format(i, loss_val))\n",
        "  print(loss_val)\n",
        "  preds = model.apply(params, x.reshape(-1,1))\n",
        "  y_pred, variance = preds[:,0] , jnp.exp(preds[:,1])\n",
        "  dist = tfp.distributions.Normal(y_pred, jnp.sqrt(variance))\n",
        "  log_pdf = dist.log_prob(y)\n",
        "  distribution = distribution.at[:,ensembles].set(-log_pdf)\n",
        "  mean_predictions = mean_predictions.at[:,ensembles].set(y_pred)\n",
        "  var_predictions = var_predictions.at[:,ensembles].set(variance)"
      ],
      "metadata": {
        "colab": {
          "base_uri": "https://localhost:8080/"
        },
        "id": "kpknfJbKfDCu",
        "outputId": "985b3ee0-42fa-44de-ae41-4f2387339046"
      },
      "execution_count": 18,
      "outputs": [
        {
          "output_type": "stream",
          "name": "stderr",
          "text": [
            "\r  0%|          | 0/6 [00:00<?, ?it/s]"
          ]
        },
        {
          "output_type": "stream",
          "name": "stdout",
          "text": [
            "1.435237\n"
          ]
        },
        {
          "output_type": "stream",
          "name": "stderr",
          "text": [
            " 33%|███▎      | 2/6 [06:49<13:34, 203.55s/it]"
          ]
        },
        {
          "output_type": "stream",
          "name": "stdout",
          "text": [
            "1.4358548\n"
          ]
        },
        {
          "output_type": "stream",
          "name": "stderr",
          "text": [
            "\r 50%|█████     | 3/6 [10:06<10:01, 200.47s/it]"
          ]
        },
        {
          "output_type": "stream",
          "name": "stdout",
          "text": [
            "1.564216\n"
          ]
        },
        {
          "output_type": "stream",
          "name": "stderr",
          "text": [
            "\r 67%|██████▋   | 4/6 [13:21<06:36, 198.41s/it]"
          ]
        },
        {
          "output_type": "stream",
          "name": "stdout",
          "text": [
            "1.4349972\n"
          ]
        },
        {
          "output_type": "stream",
          "name": "stderr",
          "text": [
            "\r 83%|████████▎ | 5/6 [16:38<03:17, 197.91s/it]"
          ]
        },
        {
          "output_type": "stream",
          "name": "stdout",
          "text": [
            "1.4363054\n"
          ]
        },
        {
          "output_type": "stream",
          "name": "stderr",
          "text": [
            "100%|██████████| 6/6 [19:55<00:00, 199.27s/it]"
          ]
        },
        {
          "output_type": "stream",
          "name": "stdout",
          "text": [
            "1.4331757\n"
          ]
        },
        {
          "output_type": "stream",
          "name": "stderr",
          "text": [
            "\n"
          ]
        }
      ]
    },
    {
      "cell_type": "code",
      "source": [
        "print(MultiLayerPerceptronRegressor().tabulate(jax.random.PRNGKey(0), random_arr))"
      ],
      "metadata": {
        "id": "vYnhXI7V9Eyv",
        "colab": {
          "base_uri": "https://localhost:8080/"
        },
        "outputId": "2f68b6fe-5405-4a4c-dfda-21d8efc2affc"
      },
      "execution_count": 19,
      "outputs": [
        {
          "output_type": "stream",
          "name": "stdout",
          "text": [
            "\n",
            "\u001b[3m                     MultiLayerPerceptronRegressor Summary                      \u001b[0m\n",
            "┏━━━━━━━━━━┳━━━━━━━━━━━━━━━━━┳━━━━━━━━━━━━━━━┳━━━━━━━━━━━━━━━┳━━━━━━━━━━━━━━━━━┓\n",
            "┃\u001b[1m \u001b[0m\u001b[1mpath    \u001b[0m\u001b[1m \u001b[0m┃\u001b[1m \u001b[0m\u001b[1mmodule         \u001b[0m\u001b[1m \u001b[0m┃\u001b[1m \u001b[0m\u001b[1minputs       \u001b[0m\u001b[1m \u001b[0m┃\u001b[1m \u001b[0m\u001b[1moutputs      \u001b[0m\u001b[1m \u001b[0m┃\u001b[1m \u001b[0m\u001b[1mparams         \u001b[0m\u001b[1m \u001b[0m┃\n",
            "┡━━━━━━━━━━╇━━━━━━━━━━━━━━━━━╇━━━━━━━━━━━━━━━╇━━━━━━━━━━━━━━━╇━━━━━━━━━━━━━━━━━┩\n",
            "│          │ MultiLayerPerc… │ \u001b[2mfloat32\u001b[0m[5,1]  │ \u001b[2mfloat32\u001b[0m[5,2]  │ layers_0:       │\n",
            "│          │                 │               │               │   bias:         │\n",
            "│          │                 │               │               │ \u001b[2mfloat32\u001b[0m[5]      │\n",
            "│          │                 │               │               │   kernel:       │\n",
            "│          │                 │               │               │ \u001b[2mfloat32\u001b[0m[1,5]    │\n",
            "│          │                 │               │               │ layers_1:       │\n",
            "│          │                 │               │               │   bias:         │\n",
            "│          │                 │               │               │ \u001b[2mfloat32\u001b[0m[10]     │\n",
            "│          │                 │               │               │   kernel:       │\n",
            "│          │                 │               │               │ \u001b[2mfloat32\u001b[0m[5,10]   │\n",
            "│          │                 │               │               │ layers_2:       │\n",
            "│          │                 │               │               │   bias:         │\n",
            "│          │                 │               │               │ \u001b[2mfloat32\u001b[0m[15]     │\n",
            "│          │                 │               │               │   kernel:       │\n",
            "│          │                 │               │               │ \u001b[2mfloat32\u001b[0m[10,15]  │\n",
            "│          │                 │               │               │ layers_3:       │\n",
            "│          │                 │               │               │   bias:         │\n",
            "│          │                 │               │               │ \u001b[2mfloat32\u001b[0m[2]      │\n",
            "│          │                 │               │               │   kernel:       │\n",
            "│          │                 │               │               │ \u001b[2mfloat32\u001b[0m[15,2]   │\n",
            "│          │                 │               │               │                 │\n",
            "│          │                 │               │               │ \u001b[1m267 \u001b[0m\u001b[1;2m(1.1 KB)\u001b[0m    │\n",
            "├──────────┼─────────────────┼───────────────┼───────────────┼─────────────────┤\n",
            "│ layers_0 │ Dense           │ \u001b[2mfloat32\u001b[0m[5,1]  │ \u001b[2mfloat32\u001b[0m[5,5]  │ bias:           │\n",
            "│          │                 │               │               │ \u001b[2mfloat32\u001b[0m[5]      │\n",
            "│          │                 │               │               │ kernel:         │\n",
            "│          │                 │               │               │ \u001b[2mfloat32\u001b[0m[1,5]    │\n",
            "│          │                 │               │               │                 │\n",
            "│          │                 │               │               │ \u001b[1m10 \u001b[0m\u001b[1;2m(40 B)\u001b[0m       │\n",
            "├──────────┼─────────────────┼───────────────┼───────────────┼─────────────────┤\n",
            "│ layers_1 │ Dense           │ \u001b[2mfloat32\u001b[0m[5,5]  │ \u001b[2mfloat32\u001b[0m[5,10] │ bias:           │\n",
            "│          │                 │               │               │ \u001b[2mfloat32\u001b[0m[10]     │\n",
            "│          │                 │               │               │ kernel:         │\n",
            "│          │                 │               │               │ \u001b[2mfloat32\u001b[0m[5,10]   │\n",
            "│          │                 │               │               │                 │\n",
            "│          │                 │               │               │ \u001b[1m60 \u001b[0m\u001b[1;2m(240 B)\u001b[0m      │\n",
            "├──────────┼─────────────────┼───────────────┼───────────────┼─────────────────┤\n",
            "│ layers_2 │ Dense           │ \u001b[2mfloat32\u001b[0m[5,10] │ \u001b[2mfloat32\u001b[0m[5,15] │ bias:           │\n",
            "│          │                 │               │               │ \u001b[2mfloat32\u001b[0m[15]     │\n",
            "│          │                 │               │               │ kernel:         │\n",
            "│          │                 │               │               │ \u001b[2mfloat32\u001b[0m[10,15]  │\n",
            "│          │                 │               │               │                 │\n",
            "│          │                 │               │               │ \u001b[1m165 \u001b[0m\u001b[1;2m(660 B)\u001b[0m     │\n",
            "├──────────┼─────────────────┼───────────────┼───────────────┼─────────────────┤\n",
            "│ layers_3 │ Dense           │ \u001b[2mfloat32\u001b[0m[5,15] │ \u001b[2mfloat32\u001b[0m[5,2]  │ bias:           │\n",
            "│          │                 │               │               │ \u001b[2mfloat32\u001b[0m[2]      │\n",
            "│          │                 │               │               │ kernel:         │\n",
            "│          │                 │               │               │ \u001b[2mfloat32\u001b[0m[15,2]   │\n",
            "│          │                 │               │               │                 │\n",
            "│          │                 │               │               │ \u001b[1m32 \u001b[0m\u001b[1;2m(128 B)\u001b[0m      │\n",
            "├──────────┼─────────────────┼───────────────┼───────────────┼─────────────────┤\n",
            "│\u001b[1m \u001b[0m\u001b[1m        \u001b[0m\u001b[1m \u001b[0m│\u001b[1m \u001b[0m\u001b[1m               \u001b[0m\u001b[1m \u001b[0m│\u001b[1m \u001b[0m\u001b[1m             \u001b[0m\u001b[1m \u001b[0m│\u001b[1m \u001b[0m\u001b[1m        Total\u001b[0m\u001b[1m \u001b[0m│\u001b[1m \u001b[0m\u001b[1m534 \u001b[0m\u001b[1;2m(2.1 KB)\u001b[0m\u001b[1m   \u001b[0m\u001b[1m \u001b[0m│\n",
            "└──────────┴─────────────────┴───────────────┴───────────────┴─────────────────┘\n",
            "\u001b[1m                                                                                \u001b[0m\n",
            "\u001b[1m                         Total Parameters: 534 \u001b[0m\u001b[1;2m(2.1 KB)\u001b[0m\u001b[1m                         \u001b[0m\n",
            "\n",
            "\n"
          ]
        }
      ]
    },
    {
      "cell_type": "code",
      "source": [
        "import pickle\n",
        "\n",
        "\n",
        "with open('var_6.pickle', 'wb') as f:\n",
        "    pickle.dump(var_predictions, f)\n"
      ],
      "metadata": {
        "id": "z1glzjtHdWAI"
      },
      "execution_count": 33,
      "outputs": []
    },
    {
      "cell_type": "code",
      "source": [
        "mixture_weight = 1/n_ensembles\n",
        "distribution = mixture_weight*distribution\n",
        "for row in range(len(distribution)):\n",
        "  responsibility = responsibility.at[row,:].set(distribution[row,:]/jnp.sum(distribution[row,:]))\n",
        "\n",
        "mixture_weights = jnp.sum(responsibility, axis =0)/jnp.sum(responsibility)\n",
        "print(mixture_weights)"
      ],
      "metadata": {
        "colab": {
          "base_uri": "https://localhost:8080/"
        },
        "id": "7Q741Y9sDggC",
        "outputId": "c6ec14b4-50b2-402e-94be-6f032040543e"
      },
      "execution_count": 20,
      "outputs": [
        {
          "output_type": "stream",
          "name": "stdout",
          "text": [
            "[0.1635738  0.16348743 0.18273841 0.16344328 0.1634745  0.16328262]\n"
          ]
        }
      ]
    },
    {
      "cell_type": "markdown",
      "source": [
        "Assuming that the all the models have equal weights,\n",
        "\n",
        "![image.png](data:image/png;base64,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)"
      ],
      "metadata": {
        "id": "mZISb8ad3QuL"
      }
    },
    {
      "cell_type": "code",
      "source": [
        "mean_ensemble = jnp.mean(mean_predictions, axis=1)\n",
        "var_ensemble = jnp.sum(jnp.square(var_predictions - mean_ensemble.reshape(-1,1)),axis =1)/len(y)"
      ],
      "metadata": {
        "id": "931_fH3D28Xu"
      },
      "execution_count": 21,
      "outputs": []
    },
    {
      "cell_type": "markdown",
      "source": [
        "![image.png](data:image/png;base64,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)"
      ],
      "metadata": {
        "id": "16z_bC-QLYGe"
      }
    },
    {
      "cell_type": "code",
      "source": [
        "mean_ensemble_weighted = jnp.sum(mean_predictions*mixture_weights, axis=1)\n",
        "\n",
        "var_ensemble_weighted = jnp.sum(mixture_weights*((mean_predictions-mean_ensemble_weighted.reshape(-1,1))**2+ var_predictions),axis=1) \n"
      ],
      "metadata": {
        "id": "i2kwu9RYJnjT"
      },
      "execution_count": 22,
      "outputs": []
    },
    {
      "cell_type": "code",
      "source": [
        "import matplotlib.pyplot as plt\n",
        "xv = jnp.linspace(1,100,100)\n",
        "plt.plot(xv,mean_ensemble)\n",
        "plt.plot(xv,mean_ensemble_weighted)\n",
        "plt.show()"
      ],
      "metadata": {
        "colab": {
          "base_uri": "https://localhost:8080/",
          "height": 265
        },
        "id": "bKAxXouAHQX-",
        "outputId": "b84e7d2e-bb67-4188-cbbb-8efa92ae10a9"
      },
      "execution_count": 25,
      "outputs": [
        {
          "output_type": "display_data",
          "data": {
            "text/plain": [
              "<Figure size 432x288 with 1 Axes>"
            ],
            "image/png": "[encoded data removed]"
          },
          "metadata": {
            "needs_background": "light"
          }
        }
      ]
    },
    {
      "cell_type": "code",
      "source": [
        "import matplotlib.pyplot as plt\n",
        "x = jnp.linspace(1,100,100)\n",
        "plt.scatter(x,var_ensemble)\n",
        "plt.scatter(x,var_ensemble_weighted)\n",
        "plt.show()\n"
      ],
      "metadata": {
        "colab": {
          "base_uri": "https://localhost:8080/",
          "height": 265
        },
        "id": "8N_H2nXAH6Ex",
        "outputId": "a80eed54-1c57-4511-d9bd-5504804fe5b1"
      },
      "execution_count": 24,
      "outputs": [
        {
          "output_type": "display_data",
          "data": {
            "text/plain": [
              "<Figure size 432x288 with 1 Axes>"
            ],
            "image/png": "[encoded data removed]"
          },
          "metadata": {
            "needs_background": "light"
          }
        }
      ]
    },
    {
      "cell_type": "markdown",
      "source": [
        "**Computing the variance of noise**"
      ],
      "metadata": {
        "id": "JKxHjc7_1dmE"
      }
    },
    {
      "cell_type": "markdown",
      "source": [
        "![image.png](data:image/png;base64,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)"
      ],
      "metadata": {
        "id": "vbbMnsRzzQ0l"
      }
    },
    {
      "cell_type": "markdown",
      "source": [
        "Therefore, the maximum likelihood estimate of the noise variance is the\n",
        "empirical mean of the squared distances between the noise-free function\n",
        "values ϕ\n",
        "⊤\n",
        "(xn)θ and the corresponding noisy observations yn at input locations xn."
      ],
      "metadata": {
        "id": "IFZrmlplzfZL"
      }
    },
    {
      "cell_type": "code",
      "source": [
        "# estimating the sigma of noise:\n",
        "\n",
        "sig = jnp.sum(jnp.square(f(x)-y))/len(y)\n",
        "sig*sig"
      ],
      "metadata": {
        "colab": {
          "base_uri": "https://localhost:8080/"
        },
        "id": "_oXLqmM-y5x6",
        "outputId": "3afba4a5-b69e-4e25-b7e7-fe905ef5d03d"
      },
      "execution_count": 35,
      "outputs": [
        {
          "output_type": "execute_result",
          "data": {
            "text/plain": [
              "Array(1.0810636, dtype=float32)"
            ]
          },
          "metadata": {},
          "execution_count": 35
        }
      ]
    },
    {
      "cell_type": "code",
      "source": [],
      "metadata": {
        "id": "loJt0fvCX89A"
      },
      "execution_count": null,
      "outputs": []
    },
    {
      "cell_type": "code",
      "source": [],
      "metadata": {
        "id": "_ywq_UoVX9DI"
      },
      "execution_count": null,
      "outputs": []
    },
    {
      "cell_type": "code",
      "source": [],
      "metadata": {
        "id": "RTgJnGNXX9He"
      },
      "execution_count": null,
      "outputs": []
    },
    {
      "cell_type": "code",
      "source": [],
      "metadata": {
        "id": "CJOXvTtGX9LZ"
      },
      "execution_count": null,
      "outputs": []
    },
    {
      "cell_type": "code",
      "source": [],
      "metadata": {
        "id": "KZfSBep1X9PU"
      },
      "execution_count": null,
      "outputs": []
    },
    {
      "cell_type": "code",
      "source": [],
      "metadata": {
        "id": "UvZyg3O0X9Tc"
      },
      "execution_count": null,
      "outputs": []
    },
    {
      "cell_type": "code",
      "source": [],
      "metadata": {
        "id": "w4E2OXSiX9a9"
      },
      "execution_count": null,
      "outputs": []
    },
    {
      "cell_type": "code",
      "source": [
        "preds = model2.apply(params, x.reshape(-1,1))\n",
        "y_pred, variance = preds[:,0] , jnp.exp(preds[:,1])\n",
        "y_pred_1 = y_pred + 2*jnp.sqrt(variance)\n",
        "y_pred_2 = y_pred - 2*jnp.sqrt(variance)\n"
      ],
      "metadata": {
        "id": "wDXipgSwsqjD"
      },
      "execution_count": null,
      "outputs": []
    },
    {
      "cell_type": "code",
      "source": [
        "import matplotlib.pyplot as plt\n",
        "plt.figure(figsize =(10,10))\n",
        "plt.plot(x, y, 'o', label='training')\n",
        "plt.plot(x, 2*x+1,linewidth = 4,label ='true func')\n",
        "plt.plot(x, y_pred,linewidth = 4,label ='predicted')\n",
        "plt.fill_between(x,y_pred_1,y_pred_2, alpha=0.2, label = '2 sigma')\n",
        "plt.legend()"
      ],
      "metadata": {
        "colab": {
          "base_uri": "https://localhost:8080/",
          "height": 609
        },
        "id": "zix86tpbsrAZ",
        "outputId": "aeeeef99-ff31-4f1b-cc41-44f144b3a375"
      },
      "execution_count": null,
      "outputs": [
        {
          "output_type": "execute_result",
          "data": {
            "text/plain": [
              "<matplotlib.legend.Legend at 0x7fd782205730>"
            ]
          },
          "metadata": {},
          "execution_count": 94
        },
        {
          "output_type": "display_data",
          "data": {
            "text/plain": [
              "<Figure size 720x720 with 1 Axes>"
            ],
            "image/png": "[encoded data removed]"
          },
          "metadata": {
            "needs_background": "light"
          }
        }
      ]
    }
  ]
}